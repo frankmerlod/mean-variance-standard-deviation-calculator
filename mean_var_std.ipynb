{
 "cells": [
  {
   "cell_type": "code",
   "execution_count": 1,
   "id": "139e46b5",
   "metadata": {},
   "outputs": [],
   "source": [
    "import numpy as np\n",
    "\n",
    "def calculate(lista):\n",
    "   if len(lista) < 9:\n",
    "       raise ValueError('List must contain nine numbers.')\n",
    "   arr_flat = np.array(lista)\n",
    "   matrix = arr_flat.reshape(3,3)\n",
    "   # Datos del array plano\n",
    "   mean_flat = arr_flat.mean()\n",
    "   var_flat = arr_flat.var()\n",
    "   std_flat = np.std(arr_flat)\n",
    "   min_flat = arr_flat.min()\n",
    "   max_flat = arr_flat.max()\n",
    "   sum_flat = arr_flat.sum()\n",
    "   #datos de la matriz\n",
    "   mean_mat0 = matrix.mean(axis=0)\n",
    "   mean_mat1 = matrix.mean(axis=1)\n",
    "   var_mat0 = matrix.var(axis=0)\n",
    "   var_mat1 = matrix.var(axis=1)\n",
    "   std_mat0 = np.std(matrix, axis=0)\n",
    "   std_mat1 = np.std(matrix, axis=1)\n",
    "   min_mat0 = matrix.min(axis=0)\n",
    "   min_mat1 = matrix.min(axis=1)\n",
    "   max_mat0 = matrix.max(axis=0)\n",
    "   max_mat1 = matrix.max(axis=1)\n",
    "   sum_mat0 = matrix.sum(axis=0)\n",
    "   sum_mat1 = matrix.sum(axis=1)\n",
    "   \n",
    "   return {\n",
    "       'mean' : [list(mean_mat0),list(mean_mat1), mean_flat],\n",
    "       'variance' : [list(var_mat0), list(var_mat1),var_flat],\n",
    "       'standard deviation' : [list(std_mat0), list(std_mat1), std_flat],\n",
    "       'max' : [list(max_mat0), list(max_mat1), max_flat],\n",
    "       'min' : [list(min_mat0), list(min_mat1), min_flat],\n",
    "       'sum' : [list(sum_mat0), list(sum_mat1), sum_flat]\n",
    "       } \n"
   ]
  },
  {
   "cell_type": "code",
   "execution_count": 6,
   "id": "a850a387",
   "metadata": {},
   "outputs": [
    {
     "name": "stdout",
     "output_type": "stream",
     "text": [
      "mean: [[np.float64(3.0), np.float64(4.0), np.float64(5.0)], [np.float64(1.0), np.float64(4.0), np.float64(7.0)], np.float64(4.0)]\n",
      "variance: [[np.float64(6.0), np.float64(6.0), np.float64(6.0)], [np.float64(0.6666666666666666), np.float64(0.6666666666666666), np.float64(0.6666666666666666)], np.float64(6.666666666666667)]\n",
      "standard deviation: [[np.float64(2.449489742783178), np.float64(2.449489742783178), np.float64(2.449489742783178)], [np.float64(0.816496580927726), np.float64(0.816496580927726), np.float64(0.816496580927726)], np.float64(2.581988897471611)]\n",
      "max: [[np.int64(6), np.int64(7), np.int64(8)], [np.int64(2), np.int64(5), np.int64(8)], np.int64(8)]\n",
      "min: [[np.int64(0), np.int64(1), np.int64(2)], [np.int64(0), np.int64(3), np.int64(6)], np.int64(0)]\n",
      "sum: [[np.int64(9), np.int64(12), np.int64(15)], [np.int64(3), np.int64(12), np.int64(21)], np.int64(36)]\n"
     ]
    }
   ],
   "source": [
    "for nombre, calculo in calculate([0,1,2,3,4,5,6,7,8]).items():\n",
    "    print(f'{nombre}: {calculo}')"
   ]
  }
 ],
 "metadata": {
  "kernelspec": {
   "display_name": "Python 3",
   "language": "python",
   "name": "python3"
  },
  "language_info": {
   "codemirror_mode": {
    "name": "ipython",
    "version": 3
   },
   "file_extension": ".py",
   "mimetype": "text/x-python",
   "name": "python",
   "nbconvert_exporter": "python",
   "pygments_lexer": "ipython3",
   "version": "3.13.2"
  }
 },
 "nbformat": 4,
 "nbformat_minor": 5
}
